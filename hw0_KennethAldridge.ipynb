{
 "cells": [
  {
   "cell_type": "markdown",
   "metadata": {},
   "source": [
    "# DS 2500 HW 0\n",
    "\n",
    "Due: Fri Feb 3 @ 11:59PM\n",
    "\n",
    "### Submission Instructions\n",
    "Please submit both of the following to the corresponding [gradescope](https://www.gradescope.com/courses/478298) assignment:\n",
    "- this `.ipynb` file \n",
    "    - give a fresh `Kernel > Restart & Run All` just before uploading\n",
    "- a `.py` file consistent with your `.ipynb`\n",
    "    - `File > Download as ...`\n",
    "    \n",
    "Gradescope may run your `.py` submission to determine part of your score for this assignment.  See the [autograder instructions](https://github.com/matthigger/gradescope_auto_py/blob/main/stud_instruct.md) for details.\n",
    "\n",
    "\n",
    "### Tips for success\n",
    "- Start early\n",
    "- Make use of [Piazza](https://course.ccs.neu.edu/ds2500/admin_piazza.html)\n",
    "- Make use of [Office Hours](https://course.ccs.neu.edu/ds2500/office_hours.html)\n",
    "- Remember that [Documentation / style counts for credit](https://course.ccs.neu.edu/ds2500/python_style.html)\n",
    "- [No student may view or share their ungraded homework with another](https://course.ccs.neu.edu/ds2500/syllabus.html#academic-integrity-and-conduct)\n",
    "\n",
    "| question   |   points(+ex credit) |\n",
    "|:-----------|---------:|\n",
    "| part 1.1   |       17 |\n",
    "| part 1.2.1 |       10 |\n",
    "| part 1.2.2 |       13 |\n",
    "| part 1.2.3 |       15 |\n",
    "| part 1.2.4 |       10 |\n",
    "| part 1.3   |       35+2 |\n",
    "|extra credit| 0+4 |\n",
    "| total      |      100 |\n"
   ]
  },
  {
   "cell_type": "markdown",
   "metadata": {},
   "source": [
    "# Markdown\n",
    "\n",
    "## Part 1.1 (17 points): \n",
    "Use [markdown](https://www.markdownguide.org/cheat-sheet/) to create your own brief wikipedia-esque description of any subject of interest. \n",
    "\n",
    "Your mini-wiki page must include:\n",
    "- three headers: a title, subtitle and subsubtitle (the #, ##, ### syntax)\n",
    "- an embedded image from a web address (use an [image hosting site](https://makeawebsitehub.com/free-photo-hosting/) if you'd like to upload your own)\n",
    "    - note gradescope may not render the image, if it shows on jupyter locally we'll award credit\n",
    "- a table of size at least 3 rows x 3 columns (needn't be correct, but must make sense)\n",
    "- a list\n",
    "- a link to another website\n",
    "\n",
    "Please be brief in your text.  Aim for roughly 3 sentences total of text.  We won't grade based on content, but keep it appropriate for class.  If you make the grader smile, no extra credit will be awarded beyond the satisfaction of having made somebody's day better :)\n"
   ]
  },
  {
   "cell_type": "markdown",
   "metadata": {},
   "source": [
    "# Arsenal FC #\n",
    "## The best soccer team in the world ##\n",
    "![Premier League Table](https://soccer.nbcsports.com/wp-content/uploads/sites/14/2023/01/Screen-Shot-2023-01-23-at-5.35.38-PM.png?w=1024)\n",
    "### First in the Premier League! ###\n",
    "\n",
    "Some of our best players this season:\n",
    "\n",
    "| Player          | Goals | Assists | G+A |\n",
    "|-----------------|-------|---------|-----|\n",
    "| Bukayo Saka     | 7     | 7       | 14  |\n",
    "| Martin Odegaard | 8     | 5       | 13  |\n",
    "| Gabriel Jesus   | 5     | 5       | 10  |\n",
    "| Gabriel Jesus   | 7     | 2       | 9   |\n",
    "\n",
    "\n",
    "Notable Achievments:\n",
    "* 13 first division titles\n",
    "- 14 FA Cups\n",
    "- Undefeated Premier League season\n",
    "\n",
    "[Link to Arsenal's actual wikipedia](https://en.wikipedia.org/wiki/Arsenal_F.C.)\n"
   ]
  },
  {
   "cell_type": "markdown",
   "metadata": {},
   "source": [
    "# Part 1.2\n",
    "\n",
    "In [blackjack](https://en.wikipedia.org/wiki/Blackjack), players are given two cards from a [standard deck](https://en.wikipedia.org/wiki/Standard_52-card_deck#Composition) of cards and add their values together.  Values are assigned to cards as:\n",
    "- number cards use their own value\n",
    "- Jack, Queen, King cards all have a value of 10\n",
    "- **aces, in this problem will always have a value of 1**\n",
    "\n",
    "Players may then choose to take as many cards as they'd like, one at a time, to increase their hand's sum.  The goal is to produce a value as high as possible without exceeding 21.  When a player's hand sum increases beyond 21 they are said to 'bust' and they lose the game.\n",
    "\n",
    "The key to playing well is knowing when to stop taking cards.  We'll explore this issue by writing a program to have the computer simulate many hands of blackjack and count how often they bust.\n"
   ]
  },
  {
   "cell_type": "markdown",
   "metadata": {},
   "source": [
    "## Part 1.2.1 (10 points)\n",
    "Build a `draw_value()` function which accepts no inputs and returns the value (an integer from 1 to 10) of some card drawn from a standard deck of cards.  `random.choices()`, and its `weights` parameter may be helpful here.  Assume that you draw cards with replacement, so that its possible to draw the same card many times.  \n",
    "\n",
    "(In practice, this isn't far from the truth as real casinos often draw from a pile of cards containing multiple, shuffled decks to mitigate the effectiveness of [card counting](https://en.wikipedia.org/wiki/Card_counting)).\n"
   ]
  },
  {
   "cell_type": "markdown",
   "metadata": {},
   "source": [
    "We won't typically publish the rubrics to students.  However, we make an exception here so you can see how important [documentation, variable naming and style](https://course.ccs.neu.edu/ds2500/python_style.html) is in your grade.\n",
    "\n",
    "rubric:\n",
    "- 2 pt any function created\n",
    "- 2 pt function created which returns a card value\n",
    "- 2 pt function created which returns a card value with proper `weights` param\n",
    "    - scaling `weights` by any reasonable constant acceptable for full credit\n",
    "- 2 pt docstring given in proper format\n",
    "- 2 pt variable names are informative and in proper style\n",
    "\n",
    "TAs are encouraged to give other minor point penalties for other style issues which crop up to nudge students in the proper direction (otherwise students may repeat these bad habits!)\n"
   ]
  },
  {
   "cell_type": "code",
   "execution_count": 2,
   "metadata": {},
   "outputs": [],
   "source": [
    "import random    \n",
    "\n",
    "def draw_value():\n",
    "    \"\"\" draw a random card from a standard deck\n",
    "    \n",
    "    number cards have their own value\n",
    "    face cards have value 10\n",
    "    ace has value of 1\n",
    "    \n",
    "    Args:\n",
    "        none\n",
    "    \n",
    "    Returns:\n",
    "        card_value (int): value of the card drawn\n",
    "    \"\"\"\n",
    "   \n",
    "    card_value_list = [1, 2, 3, 4, 5, 6, 7, 8, 9, 10]          #list of possible values of cards you can get\n",
    "    weight_value_list = [1/13, 1/13, 1/13, 1/13, 1/13, 1/13, 1/13, 1/13, 1/13, 4/13]          #list of the weights of card values\n",
    "    \n",
    "    card_value = random.choices(population = card_value_list, weights = weight_value_list)[0]     \n",
    "    #get variable card_value from selecting random card value, with weight list, and get the first item of the list that is produced\n",
    "    \n",
    "    return card_value\n",
    "    "
   ]
  },
  {
   "cell_type": "markdown",
   "metadata": {},
   "source": [
    "## Part 1.2.2 (13 points)\n",
    "Its challenging to test a function which returns a random value, it gives different values by design!  However, the more samples we get from `draw_value()` the closer the fraction of values equal to 10 should be to our expected number of 10s output: 4/13 of the total cards (see also \"Law of Large Numbers\").\n",
    "\n",
    "- Sample 13000 values from `draw_value()`\n",
    "- record how many times you observe each card in a `defaultdict` named `card_count`\n",
    "- print `card_count` and write one sentence in a markdown cell which explains why your results validate that `draw_value()` works\n"
   ]
  },
  {
   "cell_type": "code",
   "execution_count": 3,
   "metadata": {},
   "outputs": [
    {
     "name": "stdout",
     "output_type": "stream",
     "text": [
      "defaultdict(<function <lambda> at 0x000001CAF5E39BC0>, {10: 3971, 9: 1024, 2: 1000, 6: 984, 4: 1031, 3: 976, 1: 985, 7: 1010, 8: 1034, 5: 985})\n"
     ]
    }
   ],
   "source": [
    "from collections import defaultdict          \n",
    "card_count = defaultdict(lambda: 0)       #setup the default dict\n",
    " \n",
    "x = 0\n",
    "while x < 13000:            #loop 13000 times\n",
    "    x = x + 1\n",
    "    card_value = draw_value()       #draw card and assign value to card_value\n",
    "    card_count[card_value] = card_count[card_value] + 1         #add 1 of the count of cards for whichever value was drawn\n",
    "    \n",
    "print(card_count)"
   ]
  },
  {
   "cell_type": "markdown",
   "metadata": {},
   "source": [
    "When I ran 13000 draw_values, I got that 3958 times card 10 was drawn and this makes sense because 3958/13000 is close to 4/13."
   ]
  },
  {
   "cell_type": "markdown",
   "metadata": {},
   "source": [
    "## Part 1.2.3 (15 points)\n",
    "\n",
    "One of the big questions facing blackjack players is, \"Given that my hand already has a value of X, what's the probability that the next card will bust my hand?\".  For every starting hand sum from 10 to 21, we'll estimate this probability by simulating how often a hand goes bust among many randomly drawn hands.\n",
    "\n",
    "- initialize `num_bust_per_start` as a defaultdict\n",
    "    - keys are the starting hands from 10 to 21 (including both 10 and 21)\n",
    "    - values (initially) count how many hands went bust (defaults to 0)\n",
    "    - e.g. `num_bust_per_start = {19: 100, 15: 42}` indicates that, among all the simulations:\n",
    "        - 100 hands starting at 19 went bust\n",
    "        - 42 hands starting at 15 went bust\n",
    "- for every `start_hand` from 10 to 21:\n",
    "    - draw a single card via `draw_value()`\n",
    "    - record the hand as a bust if the `start_hand` + `card_val` exceeds 21\n",
    "    - repeat the above two steps so that you simulate 10,000 draws\n",
    "        - 10,000 draws starting from 10\n",
    "        - 10,000 draws starting from 11 \n",
    "        - ... \n"
   ]
  },
  {
   "cell_type": "code",
   "execution_count": 4,
   "metadata": {},
   "outputs": [
    {
     "name": "stdout",
     "output_type": "stream",
     "text": [
      "defaultdict(<function <lambda> at 0x0000025ECB89B240>, {10: 0, 11: 0, 12: 3119, 13: 3831, 14: 4598, 15: 5426, 16: 6218, 17: 6977, 18: 7757, 19: 8514, 20: 9228, 21: 10000})\n"
     ]
    }
   ],
   "source": [
    "from collections import defaultdict  \n",
    "num_bust_per_start = defaultdict(lambda: 0)      #initialize default dict\n",
    "\n",
    "for start_hand in range(10,22):      #iterate through starting hands from 10 to 21\n",
    "    num_bust_per_start[start_hand]       #put the starting hand value in dict\n",
    "    \n",
    "    x = 0\n",
    "    while x < 10000:                #loop 10000 times\n",
    "        x = x + 1\n",
    "        card_val = draw_value()       #draw a card\n",
    "        if start_hand + card_val > 21:     #if the drawn card added to the starting hand value is over 21, record that in the dict\n",
    "            num_bust_per_start[start_hand] = num_bust_per_start[start_hand] + 1\n",
    "    \n",
    "print(num_bust_per_start)"
   ]
  },
  {
   "cell_type": "markdown",
   "metadata": {},
   "source": [
    "## Part 1.2.4 (10 points)\n",
    "\n",
    "Let's synthesize the results of part 1.2.3 immediately above by estimating the probability of going bust choosing to take 1 more card from every starting hand from 10 to 21\n",
    "\n",
    "- make a new dictionary `prob_bust_given_start` whose keys are values 10 to 21 and values are probability estimates of going bust which correspond to `num_bust_per_start`\n",
    "    - for example, if 7000 of the 10,000 draws starting from 15 went bust, the prob estimate of busting from 15 is .7\n",
    "    \n",
    "- print `prob_bust_given_start` so it may be observed\n",
    "    - (optional: try using [\"pretty print\"](https://docs.python.org/3/library/pprint.html) to sort the output dictionary.  `from pprint import pprint` and then `pprint(prob_bust_given_tart)` on another line)\n",
    "\n",
    "- A player wants to continue to add cards to their hand as long as the chance of going bust is no more than 50%.  What would you analysis suggest they do?  Write a one or two sentence response which is easily understood by everyone.\n"
   ]
  },
  {
   "cell_type": "code",
   "execution_count": 6,
   "metadata": {},
   "outputs": [
    {
     "name": "stdout",
     "output_type": "stream",
     "text": [
      "defaultdict(<function <lambda> at 0x0000025ECB89AD40>,\n",
      "            {10: 0.0,\n",
      "             11: 0.0,\n",
      "             12: 0.3119,\n",
      "             13: 0.3831,\n",
      "             14: 0.4598,\n",
      "             15: 0.5426,\n",
      "             16: 0.6218,\n",
      "             17: 0.6977,\n",
      "             18: 0.7757,\n",
      "             19: 0.8514,\n",
      "             20: 0.9228,\n",
      "             21: 1.0})\n"
     ]
    }
   ],
   "source": [
    "from collections import defaultdict  \n",
    "from pprint import pprint\n",
    "\n",
    "prob_bust_given_start = defaultdict(lambda: 0)    #initialize default dict\n",
    "\n",
    "\n",
    "for key, value in num_bust_per_start.items():     #iterate through num_bust_per_start dict\n",
    "    prob_bust_given_start[key] = value/10000     #divide values in dict by 10000 to find the probability of going bust \n",
    "    \n",
    "pprint(prob_bust_given_start)"
   ]
  },
  {
   "cell_type": "markdown",
   "metadata": {},
   "source": [
    "I suggest they look at the probabilities in this list, and any hand under 15 in value will have less than a 50% chance of going bust."
   ]
  },
  {
   "cell_type": "markdown",
   "metadata": {},
   "source": [
    "# Triple-or-nothing\n",
    "Triple-or-nothing is a game where a `jar` is initially set up with 1 coin and placed between two opposing players.  In each round:\n",
    "- both players bet some fraction, `frac`\n",
    "    - neither player knows the other's `frac` before choosing their own\n",
    "    - fractions must be between 0 and 1 (including 0 and 1)\n",
    "- coins are distributed to the players as:\n",
    "    1. the player with the smaller $^1$ `frac` takes that fraction$^2$ of coins from the jar and places them in their `purse`\n",
    "    1. the player with the larger$^1$ `frac` takes that fraction$^2$ of coins from the **remaining** jar and places them in their `purse`\n",
    "    1. the \"bank\" (an infinite supply of coins) triples the value of the jar (fractional coins allowed)\n",
    "    1. If the jar has no coins in it or the players have already played 10 rounds, the game ends\n",
    "    \n",
    "Each player seeks to earn as many coins as possible.\n",
    "\n",
    "Footnote 1: You may assume the players do not write the same value down.  (see also: extra credit below)\n",
    "\n",
    "Footnote 2: In the event the jar is emptied, the game ends\n"
   ]
  },
  {
   "cell_type": "markdown",
   "metadata": {},
   "source": [
    "# Part 1.3 (16+2 pts autograder, 19 pts)\n",
    "\n",
    "Complete the `update_round()` function below, which updates a round of triple-or-nothing as described above.  Your function should pass all the given assert statements below.\n",
    "\n",
    "For (+2 pts) extra credit, revise your `update_round()` to support the case when players give the same `frac`.  In this event, the total number of coins taken out of the jar if the players went (in any order) is: \n",
    "\n",
    "    frac * jar + frac * (1 - frac) * jar = (2 - frac) * frac * jar\n",
    "\n",
    "and it is split evenly between the players.\n",
    "\n",
    "#### Hints:\n",
    "- Study the docstring and testcases of `update_round()` before building it, make sure you understand why the test cases use the values they do\n",
    "- Notice that `update_round()` does not know anything baout round indices, game stopping conditions etc\n"
   ]
  },
  {
   "cell_type": "code",
   "execution_count": 6,
   "metadata": {},
   "outputs": [],
   "source": [
    "def update_round(jar, frac0, frac1):\n",
    "    \"\"\" runs a round of Triple-or-nothing\n",
    "    \n",
    "    Args:\n",
    "        jar (float): number of coins in the jar at round start\n",
    "        frac0 (float): player0's fraction bet\n",
    "        frac1 (float): player1's fraction bet\n",
    "            \n",
    "    Returns:\n",
    "        jar (float): number of coins in the jar at end of round\n",
    "        new_coin0 (float): number of coins player0 has earned\n",
    "            in this round\n",
    "        new_coin1 (float): number of coins player1 has earned\n",
    "            in this round\n",
    "    \"\"\"\n",
    "    # check that both fraction inputs are valid\n",
    "    assert 0 <= frac0 <= 1, 'invalid input: frac0'\n",
    "    assert 0 <= frac1 <= 1, 'invalid input: frac1'\n",
    "    \n",
    "    if frac0 < frac1:             #if player0 has the lower fraction, then they take out of jar first\n",
    "        new_coin0 = frac0 * jar\n",
    "        jar = jar - new_coin0 \n",
    "        \n",
    "        new_coin1 = frac1 * jar         #in this case player1 goes after\n",
    "        jar = (jar - new_coin1) * 3       #ending jar value of round\n",
    "        \n",
    "    elif frac1 < frac0:              #player1 takes out first if they have smaller fraction\n",
    "        new_coin1 = frac1 * jar\n",
    "        jar = jar - new_coin1\n",
    "        \n",
    "        new_coin0 = frac0 * jar             #in this case player0 goes after\n",
    "        jar = (jar - new_coin0) * 3       #ending jar value of round\n",
    "    \n",
    "    else:\n",
    "        frac = frac0                              \n",
    "        #because both fractions are equivalent, can set single term \"frac\" to any of the fraction values\n",
    "        new_coin0 = ((2 - frac) * frac * jar)/2        #finding values for the amount of coins each player takes\n",
    "        new_coin1 = ((2 - frac) * frac * jar)/2\n",
    "        jar = (jar - (new_coin0 + new_coin1)) * 3          #finding ending value of the jar for the round\n",
    "    \n",
    "        \n",
    "    return (jar, new_coin0, new_coin1)      #return values in tuple\n"
   ]
  },
  {
   "cell_type": "code",
   "execution_count": 8,
   "metadata": {},
   "outputs": [],
   "source": [
    "assert update_round(jar=10, frac0=.1, frac1=0) == (27, 1, 0), '(2 pts)'\n",
    "assert update_round(jar=10, frac0=.5, frac1=.2) == (12, 4, 2), '(2 pts)'\n",
    "assert update_round(jar=10, frac0=1, frac1=.5) == (0, 5, 5), '(2 pts)'\n",
    "assert update_round(jar=10, frac1=.9, frac0=1) == (0, 1, 9), '(2 pts)'\n",
    "\n",
    "# swap frac0 / frac1 and new_coin0 / new_coin1 from previous 4 test cases\n",
    "assert update_round(jar=10, frac1=.1, frac0=0) == (27, 0, 1), '(2 pts)'\n",
    "assert update_round(jar=10, frac1=.5, frac0=.2) == (12, 2, 4), '(2 pts)'\n",
    "assert update_round(jar=10, frac1=1, frac0=.5) == (0, 5, 5), '(2 pts)'\n",
    "assert update_round(jar=10, frac1=1, frac0=.9) == (0, 9, 1), '(2 pts)'\n",
    "\n",
    "# # extra credit test cases\n",
    "assert update_round(jar=10, frac0=1, frac1=1) == (0, 5, 5), '(1 pt)'\n",
    "assert update_round(jar=20, frac0=.5, frac1=.5) == (15, 7.5, 7.5),  '(1 pt)'\n"
   ]
  },
  {
   "cell_type": "markdown",
   "metadata": {},
   "source": [
    "## Extra Credit (up to +4 points)\n",
    "\n",
    "Program your own triple-or-nothing player.  Your new function must use the same inputs, outputs and name (`triple_nothing_player()`) as the function below for credit to be awarded.\n",
    "\n",
    "- You needn't use all inputs provided, they're provided to help you build a player which is \"smarter\" or more fun\n",
    "- You may, if you choose, call a working version of `update_round()` as defined above\n",
    "- Do not `import` any other packages in building your `triple_nothing_player()` \n",
    "\n",
    "All student submissions will play one game against every other student submission.  The winner is the function with the largest coin total at the end of all games.\n",
    "\n",
    "While technically, this is a competition, you're welcome to submit strategies which behave in funny ways without the intention of winning.  I'm hopeful that the data of all these games will be interesting to look at, if so we'll be seeing it again in DS2500.  To help identify which strategy is yours in the dataset, please output a unique (within the class) `name` to your strategy.  \n",
    "\n",
    "All Extra Credit will be awarded based on the creativity, implementation and documentation of the submission. \n"
   ]
  },
  {
   "cell_type": "code",
   "execution_count": 11,
   "metadata": {},
   "outputs": [],
   "source": [
    "# set below to True if you wish to submit your extra credit\n",
    "extra_credit_attempted = True\n"
   ]
  },
  {
   "cell_type": "code",
   "execution_count": 20,
   "metadata": {},
   "outputs": [],
   "source": [
    "def triple_nothing_player(jar, round_idx, frac_hist_opp, frac_hist_self):\n",
    "    \"\"\" produces a fraction in a game of triple or nothing\n",
    "    \n",
    "    frac_hist objects are lists of previous fraction history in\n",
    "    the game.  For example, frac_hist = [0, .01, .2] indicates\n",
    "    a player had fraction 0 in the first round, .01 in the second\n",
    "    and .2 in the third\n",
    "    \n",
    "    Args:\n",
    "        jar (float): value of the jar in current round\n",
    "        round_idx (int): current round index (0 for\n",
    "            first round, 9 for final round)\n",
    "        frac_hist_opp (list): a history of all fractions input\n",
    "            by opposing player\n",
    "        frac_hist_self (list): a history of all fractions input \n",
    "            by self\n",
    "            \n",
    "    Returns:\n",
    "        frac (float): fraction for current round\n",
    "        name (str): a unique name given to your strategy\n",
    "    \"\"\"\n",
    "    #as the rounds get higher, increase the fraction\n",
    "    frac = round_idx/10 + .1\n",
    "  \n",
    "    name = \"increasing\"\n",
    "    \n",
    "    return frac, name\n"
   ]
  },
  {
   "cell_type": "code",
   "execution_count": 24,
   "metadata": {},
   "outputs": [
    {
     "data": {
      "text/plain": [
       "(0.3, 'increasing')"
      ]
     },
     "execution_count": 24,
     "metadata": {},
     "output_type": "execute_result"
    }
   ],
   "source": [
    "frac = triple_nothing_player(10, 3, 1, 1)\n",
    "frac\n",
    "    "
   ]
  }
 ],
 "metadata": {
  "kernelspec": {
   "display_name": "Python 3 (ipykernel)",
   "language": "python",
   "name": "python3"
  },
  "language_info": {
   "codemirror_mode": {
    "name": "ipython",
    "version": 3
   },
   "file_extension": ".py",
   "mimetype": "text/x-python",
   "name": "python",
   "nbconvert_exporter": "python",
   "pygments_lexer": "ipython3",
   "version": "3.11.1"
  }
 },
 "nbformat": 4,
 "nbformat_minor": 4
}
